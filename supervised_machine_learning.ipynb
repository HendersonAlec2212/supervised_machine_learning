{
 "cells": [
  {
   "cell_type": "code",
   "execution_count": 1,
   "id": "ef23919c",
   "metadata": {},
   "outputs": [
    {
     "data": {
      "text/plain": [
       "'C:\\\\Users\\\\Alec\\\\Documents\\\\Programming_Resources\\\\Boot_Camp\\\\19_supervised_machine_learning\\\\homework'"
      ]
     },
     "execution_count": 1,
     "metadata": {},
     "output_type": "execute_result"
    }
   ],
   "source": [
    "import numpy as np\n",
    "import pandas as pd\n",
    "from os import getcwd\n",
    "\n",
    "from sklearn.linear_model import LogisticRegression, Lasso\n",
    "from sklearn.ensemble import RandomForestClassifier\n",
    "from sklearn.preprocessing import StandardScaler,MinMaxScaler\n",
    "\n",
    "\n",
    "getcwd()"
   ]
  },
  {
   "cell_type": "markdown",
   "id": "64acab9e",
   "metadata": {},
   "source": [
    "# Load data"
   ]
  },
  {
   "cell_type": "code",
   "execution_count": 2,
   "id": "6d36e681",
   "metadata": {},
   "outputs": [],
   "source": [
    "train_df = pd.read_csv('2019loans.csv')\n",
    "test_df = pd.read_csv('2020Q1loans.csv')"
   ]
  },
  {
   "cell_type": "code",
   "execution_count": 3,
   "id": "edc4029d",
   "metadata": {},
   "outputs": [
    {
     "data": {
      "text/html": [
       "<div>\n",
       "<style scoped>\n",
       "    .dataframe tbody tr th:only-of-type {\n",
       "        vertical-align: middle;\n",
       "    }\n",
       "\n",
       "    .dataframe tbody tr th {\n",
       "        vertical-align: top;\n",
       "    }\n",
       "\n",
       "    .dataframe thead th {\n",
       "        text-align: right;\n",
       "    }\n",
       "</style>\n",
       "<table border=\"1\" class=\"dataframe\">\n",
       "  <thead>\n",
       "    <tr style=\"text-align: right;\">\n",
       "      <th></th>\n",
       "      <th>Unnamed: 0</th>\n",
       "      <th>index</th>\n",
       "      <th>loan_amnt</th>\n",
       "      <th>int_rate</th>\n",
       "      <th>installment</th>\n",
       "      <th>home_ownership</th>\n",
       "      <th>annual_inc</th>\n",
       "      <th>verification_status</th>\n",
       "      <th>loan_status</th>\n",
       "      <th>pymnt_plan</th>\n",
       "      <th>...</th>\n",
       "      <th>pct_tl_nvr_dlq</th>\n",
       "      <th>percent_bc_gt_75</th>\n",
       "      <th>pub_rec_bankruptcies</th>\n",
       "      <th>tax_liens</th>\n",
       "      <th>tot_hi_cred_lim</th>\n",
       "      <th>total_bal_ex_mort</th>\n",
       "      <th>total_bc_limit</th>\n",
       "      <th>total_il_high_credit_limit</th>\n",
       "      <th>hardship_flag</th>\n",
       "      <th>debt_settlement_flag</th>\n",
       "    </tr>\n",
       "  </thead>\n",
       "  <tbody>\n",
       "    <tr>\n",
       "      <th>0</th>\n",
       "      <td>57107</td>\n",
       "      <td>57107</td>\n",
       "      <td>13375.0</td>\n",
       "      <td>0.1797</td>\n",
       "      <td>483.34</td>\n",
       "      <td>MORTGAGE</td>\n",
       "      <td>223000.0</td>\n",
       "      <td>Not Verified</td>\n",
       "      <td>low_risk</td>\n",
       "      <td>n</td>\n",
       "      <td>...</td>\n",
       "      <td>100.0</td>\n",
       "      <td>50.0</td>\n",
       "      <td>0.0</td>\n",
       "      <td>0.0</td>\n",
       "      <td>577150.0</td>\n",
       "      <td>122018.0</td>\n",
       "      <td>32000.0</td>\n",
       "      <td>170200.0</td>\n",
       "      <td>N</td>\n",
       "      <td>N</td>\n",
       "    </tr>\n",
       "    <tr>\n",
       "      <th>1</th>\n",
       "      <td>141451</td>\n",
       "      <td>141451</td>\n",
       "      <td>21000.0</td>\n",
       "      <td>0.1308</td>\n",
       "      <td>478.68</td>\n",
       "      <td>MORTGAGE</td>\n",
       "      <td>123000.0</td>\n",
       "      <td>Source Verified</td>\n",
       "      <td>low_risk</td>\n",
       "      <td>n</td>\n",
       "      <td>...</td>\n",
       "      <td>85.0</td>\n",
       "      <td>33.3</td>\n",
       "      <td>0.0</td>\n",
       "      <td>0.0</td>\n",
       "      <td>132750.0</td>\n",
       "      <td>27896.0</td>\n",
       "      <td>15900.0</td>\n",
       "      <td>35398.0</td>\n",
       "      <td>N</td>\n",
       "      <td>N</td>\n",
       "    </tr>\n",
       "    <tr>\n",
       "      <th>2</th>\n",
       "      <td>321143</td>\n",
       "      <td>321143</td>\n",
       "      <td>20000.0</td>\n",
       "      <td>0.1240</td>\n",
       "      <td>448.95</td>\n",
       "      <td>MORTGAGE</td>\n",
       "      <td>197000.0</td>\n",
       "      <td>Source Verified</td>\n",
       "      <td>low_risk</td>\n",
       "      <td>n</td>\n",
       "      <td>...</td>\n",
       "      <td>85.7</td>\n",
       "      <td>33.3</td>\n",
       "      <td>0.0</td>\n",
       "      <td>0.0</td>\n",
       "      <td>628160.0</td>\n",
       "      <td>114043.0</td>\n",
       "      <td>22600.0</td>\n",
       "      <td>90340.0</td>\n",
       "      <td>N</td>\n",
       "      <td>N</td>\n",
       "    </tr>\n",
       "    <tr>\n",
       "      <th>3</th>\n",
       "      <td>11778</td>\n",
       "      <td>11778</td>\n",
       "      <td>3000.0</td>\n",
       "      <td>0.1240</td>\n",
       "      <td>100.22</td>\n",
       "      <td>RENT</td>\n",
       "      <td>45000.0</td>\n",
       "      <td>Not Verified</td>\n",
       "      <td>low_risk</td>\n",
       "      <td>n</td>\n",
       "      <td>...</td>\n",
       "      <td>100.0</td>\n",
       "      <td>16.7</td>\n",
       "      <td>1.0</td>\n",
       "      <td>0.0</td>\n",
       "      <td>42006.0</td>\n",
       "      <td>20761.0</td>\n",
       "      <td>19900.0</td>\n",
       "      <td>15406.0</td>\n",
       "      <td>N</td>\n",
       "      <td>N</td>\n",
       "    </tr>\n",
       "    <tr>\n",
       "      <th>4</th>\n",
       "      <td>169382</td>\n",
       "      <td>169382</td>\n",
       "      <td>30000.0</td>\n",
       "      <td>0.1612</td>\n",
       "      <td>1056.49</td>\n",
       "      <td>MORTGAGE</td>\n",
       "      <td>133000.0</td>\n",
       "      <td>Source Verified</td>\n",
       "      <td>low_risk</td>\n",
       "      <td>n</td>\n",
       "      <td>...</td>\n",
       "      <td>100.0</td>\n",
       "      <td>66.7</td>\n",
       "      <td>0.0</td>\n",
       "      <td>0.0</td>\n",
       "      <td>283248.0</td>\n",
       "      <td>109056.0</td>\n",
       "      <td>79500.0</td>\n",
       "      <td>58778.0</td>\n",
       "      <td>N</td>\n",
       "      <td>N</td>\n",
       "    </tr>\n",
       "  </tbody>\n",
       "</table>\n",
       "<p>5 rows × 86 columns</p>\n",
       "</div>"
      ],
      "text/plain": [
       "   Unnamed: 0   index  loan_amnt  int_rate  installment home_ownership  \\\n",
       "0       57107   57107    13375.0    0.1797       483.34       MORTGAGE   \n",
       "1      141451  141451    21000.0    0.1308       478.68       MORTGAGE   \n",
       "2      321143  321143    20000.0    0.1240       448.95       MORTGAGE   \n",
       "3       11778   11778     3000.0    0.1240       100.22           RENT   \n",
       "4      169382  169382    30000.0    0.1612      1056.49       MORTGAGE   \n",
       "\n",
       "   annual_inc verification_status loan_status pymnt_plan  ...  pct_tl_nvr_dlq  \\\n",
       "0    223000.0        Not Verified    low_risk          n  ...           100.0   \n",
       "1    123000.0     Source Verified    low_risk          n  ...            85.0   \n",
       "2    197000.0     Source Verified    low_risk          n  ...            85.7   \n",
       "3     45000.0        Not Verified    low_risk          n  ...           100.0   \n",
       "4    133000.0     Source Verified    low_risk          n  ...           100.0   \n",
       "\n",
       "   percent_bc_gt_75  pub_rec_bankruptcies  tax_liens  tot_hi_cred_lim  \\\n",
       "0              50.0                   0.0        0.0         577150.0   \n",
       "1              33.3                   0.0        0.0         132750.0   \n",
       "2              33.3                   0.0        0.0         628160.0   \n",
       "3              16.7                   1.0        0.0          42006.0   \n",
       "4              66.7                   0.0        0.0         283248.0   \n",
       "\n",
       "   total_bal_ex_mort  total_bc_limit total_il_high_credit_limit  \\\n",
       "0           122018.0         32000.0                   170200.0   \n",
       "1            27896.0         15900.0                    35398.0   \n",
       "2           114043.0         22600.0                    90340.0   \n",
       "3            20761.0         19900.0                    15406.0   \n",
       "4           109056.0         79500.0                    58778.0   \n",
       "\n",
       "   hardship_flag  debt_settlement_flag  \n",
       "0              N                     N  \n",
       "1              N                     N  \n",
       "2              N                     N  \n",
       "3              N                     N  \n",
       "4              N                     N  \n",
       "\n",
       "[5 rows x 86 columns]"
      ]
     },
     "execution_count": 3,
     "metadata": {},
     "output_type": "execute_result"
    }
   ],
   "source": [
    "train_df.head()"
   ]
  },
  {
   "cell_type": "code",
   "execution_count": 4,
   "id": "4c38335a",
   "metadata": {},
   "outputs": [
    {
     "data": {
      "text/html": [
       "<div>\n",
       "<style scoped>\n",
       "    .dataframe tbody tr th:only-of-type {\n",
       "        vertical-align: middle;\n",
       "    }\n",
       "\n",
       "    .dataframe tbody tr th {\n",
       "        vertical-align: top;\n",
       "    }\n",
       "\n",
       "    .dataframe thead th {\n",
       "        text-align: right;\n",
       "    }\n",
       "</style>\n",
       "<table border=\"1\" class=\"dataframe\">\n",
       "  <thead>\n",
       "    <tr style=\"text-align: right;\">\n",
       "      <th></th>\n",
       "      <th>Unnamed: 0</th>\n",
       "      <th>index</th>\n",
       "      <th>loan_amnt</th>\n",
       "      <th>int_rate</th>\n",
       "      <th>installment</th>\n",
       "      <th>home_ownership</th>\n",
       "      <th>annual_inc</th>\n",
       "      <th>verification_status</th>\n",
       "      <th>loan_status</th>\n",
       "      <th>pymnt_plan</th>\n",
       "      <th>...</th>\n",
       "      <th>pct_tl_nvr_dlq</th>\n",
       "      <th>percent_bc_gt_75</th>\n",
       "      <th>pub_rec_bankruptcies</th>\n",
       "      <th>tax_liens</th>\n",
       "      <th>tot_hi_cred_lim</th>\n",
       "      <th>total_bal_ex_mort</th>\n",
       "      <th>total_bc_limit</th>\n",
       "      <th>total_il_high_credit_limit</th>\n",
       "      <th>hardship_flag</th>\n",
       "      <th>debt_settlement_flag</th>\n",
       "    </tr>\n",
       "  </thead>\n",
       "  <tbody>\n",
       "    <tr>\n",
       "      <th>0</th>\n",
       "      <td>67991</td>\n",
       "      <td>67991</td>\n",
       "      <td>40000.0</td>\n",
       "      <td>0.0819</td>\n",
       "      <td>814.70</td>\n",
       "      <td>MORTGAGE</td>\n",
       "      <td>140000.0</td>\n",
       "      <td>Not Verified</td>\n",
       "      <td>low_risk</td>\n",
       "      <td>n</td>\n",
       "      <td>...</td>\n",
       "      <td>97.7</td>\n",
       "      <td>0.0</td>\n",
       "      <td>0.0</td>\n",
       "      <td>0.0</td>\n",
       "      <td>527975.0</td>\n",
       "      <td>70914.0</td>\n",
       "      <td>74600.0</td>\n",
       "      <td>99475.0</td>\n",
       "      <td>N</td>\n",
       "      <td>N</td>\n",
       "    </tr>\n",
       "    <tr>\n",
       "      <th>1</th>\n",
       "      <td>25429</td>\n",
       "      <td>25429</td>\n",
       "      <td>6000.0</td>\n",
       "      <td>0.1524</td>\n",
       "      <td>208.70</td>\n",
       "      <td>RENT</td>\n",
       "      <td>55000.0</td>\n",
       "      <td>Not Verified</td>\n",
       "      <td>low_risk</td>\n",
       "      <td>n</td>\n",
       "      <td>...</td>\n",
       "      <td>66.7</td>\n",
       "      <td>0.0</td>\n",
       "      <td>0.0</td>\n",
       "      <td>0.0</td>\n",
       "      <td>34628.0</td>\n",
       "      <td>23460.0</td>\n",
       "      <td>5900.0</td>\n",
       "      <td>23628.0</td>\n",
       "      <td>N</td>\n",
       "      <td>N</td>\n",
       "    </tr>\n",
       "    <tr>\n",
       "      <th>2</th>\n",
       "      <td>38496</td>\n",
       "      <td>38496</td>\n",
       "      <td>3600.0</td>\n",
       "      <td>0.1695</td>\n",
       "      <td>128.27</td>\n",
       "      <td>RENT</td>\n",
       "      <td>42000.0</td>\n",
       "      <td>Not Verified</td>\n",
       "      <td>low_risk</td>\n",
       "      <td>n</td>\n",
       "      <td>...</td>\n",
       "      <td>100.0</td>\n",
       "      <td>0.0</td>\n",
       "      <td>0.0</td>\n",
       "      <td>0.0</td>\n",
       "      <td>23100.0</td>\n",
       "      <td>19183.0</td>\n",
       "      <td>7300.0</td>\n",
       "      <td>15000.0</td>\n",
       "      <td>N</td>\n",
       "      <td>N</td>\n",
       "    </tr>\n",
       "    <tr>\n",
       "      <th>3</th>\n",
       "      <td>19667</td>\n",
       "      <td>19667</td>\n",
       "      <td>20000.0</td>\n",
       "      <td>0.1524</td>\n",
       "      <td>478.33</td>\n",
       "      <td>RENT</td>\n",
       "      <td>100000.0</td>\n",
       "      <td>Not Verified</td>\n",
       "      <td>low_risk</td>\n",
       "      <td>n</td>\n",
       "      <td>...</td>\n",
       "      <td>100.0</td>\n",
       "      <td>50.0</td>\n",
       "      <td>0.0</td>\n",
       "      <td>0.0</td>\n",
       "      <td>56481.0</td>\n",
       "      <td>43817.0</td>\n",
       "      <td>13800.0</td>\n",
       "      <td>35981.0</td>\n",
       "      <td>N</td>\n",
       "      <td>N</td>\n",
       "    </tr>\n",
       "    <tr>\n",
       "      <th>4</th>\n",
       "      <td>37505</td>\n",
       "      <td>37505</td>\n",
       "      <td>3600.0</td>\n",
       "      <td>0.1240</td>\n",
       "      <td>120.27</td>\n",
       "      <td>RENT</td>\n",
       "      <td>50000.0</td>\n",
       "      <td>Not Verified</td>\n",
       "      <td>low_risk</td>\n",
       "      <td>n</td>\n",
       "      <td>...</td>\n",
       "      <td>100.0</td>\n",
       "      <td>25.0</td>\n",
       "      <td>0.0</td>\n",
       "      <td>0.0</td>\n",
       "      <td>45977.0</td>\n",
       "      <td>32448.0</td>\n",
       "      <td>21000.0</td>\n",
       "      <td>24977.0</td>\n",
       "      <td>N</td>\n",
       "      <td>N</td>\n",
       "    </tr>\n",
       "  </tbody>\n",
       "</table>\n",
       "<p>5 rows × 86 columns</p>\n",
       "</div>"
      ],
      "text/plain": [
       "   Unnamed: 0  index  loan_amnt  int_rate  installment home_ownership  \\\n",
       "0       67991  67991    40000.0    0.0819       814.70       MORTGAGE   \n",
       "1       25429  25429     6000.0    0.1524       208.70           RENT   \n",
       "2       38496  38496     3600.0    0.1695       128.27           RENT   \n",
       "3       19667  19667    20000.0    0.1524       478.33           RENT   \n",
       "4       37505  37505     3600.0    0.1240       120.27           RENT   \n",
       "\n",
       "   annual_inc verification_status loan_status pymnt_plan  ...  pct_tl_nvr_dlq  \\\n",
       "0    140000.0        Not Verified    low_risk          n  ...            97.7   \n",
       "1     55000.0        Not Verified    low_risk          n  ...            66.7   \n",
       "2     42000.0        Not Verified    low_risk          n  ...           100.0   \n",
       "3    100000.0        Not Verified    low_risk          n  ...           100.0   \n",
       "4     50000.0        Not Verified    low_risk          n  ...           100.0   \n",
       "\n",
       "   percent_bc_gt_75  pub_rec_bankruptcies  tax_liens  tot_hi_cred_lim  \\\n",
       "0               0.0                   0.0        0.0         527975.0   \n",
       "1               0.0                   0.0        0.0          34628.0   \n",
       "2               0.0                   0.0        0.0          23100.0   \n",
       "3              50.0                   0.0        0.0          56481.0   \n",
       "4              25.0                   0.0        0.0          45977.0   \n",
       "\n",
       "   total_bal_ex_mort  total_bc_limit total_il_high_credit_limit  \\\n",
       "0            70914.0         74600.0                    99475.0   \n",
       "1            23460.0          5900.0                    23628.0   \n",
       "2            19183.0          7300.0                    15000.0   \n",
       "3            43817.0         13800.0                    35981.0   \n",
       "4            32448.0         21000.0                    24977.0   \n",
       "\n",
       "   hardship_flag  debt_settlement_flag  \n",
       "0              N                     N  \n",
       "1              N                     N  \n",
       "2              N                     N  \n",
       "3              N                     N  \n",
       "4              N                     N  \n",
       "\n",
       "[5 rows x 86 columns]"
      ]
     },
     "execution_count": 4,
     "metadata": {},
     "output_type": "execute_result"
    }
   ],
   "source": [
    "test_df.head()"
   ]
  },
  {
   "cell_type": "markdown",
   "id": "cb956933",
   "metadata": {},
   "source": [
    "# Data Processing"
   ]
  },
  {
   "cell_type": "code",
   "execution_count": 5,
   "id": "a7802e82",
   "metadata": {},
   "outputs": [],
   "source": [
    "# Convert categorical data to numeric and separate target feature for training data \n",
    "\n",
    "X_train = train_df.drop(columns='loan_status')\n",
    "y_train = train_df['loan_status']\n",
    "\n",
    "X_train_dummies = pd.get_dummies(X_train,drop_first=True)\n"
   ]
  },
  {
   "cell_type": "code",
   "execution_count": 6,
   "id": "9b2cb78d",
   "metadata": {},
   "outputs": [],
   "source": [
    "# Convert categorical data to numeric and separate target feature for testing data \n",
    "\n",
    "X_test = test_df.drop(columns='loan_status')\n",
    "y_test = test_df['loan_status']\n",
    "\n",
    "X_test_dummies = pd.get_dummies(X_test,drop_first=True)\n"
   ]
  },
  {
   "cell_type": "code",
   "execution_count": 7,
   "id": "3e59f010",
   "metadata": {},
   "outputs": [
    {
     "name": "stdout",
     "output_type": "stream",
     "text": [
      "number of Test_dummies columns -> 86 \n",
      "number of Train_dummies columns -> 87 \n"
     ]
    }
   ],
   "source": [
    "# compare columns in Dataframes\n",
    "print(f'number of Test_dummies columns -> {len(X_test_dummies.columns)} ')\n",
    "print(f'number of Train_dummies columns -> {len(X_train_dummies.columns)} ')"
   ]
  },
  {
   "cell_type": "markdown",
   "id": "be15a43e",
   "metadata": {},
   "source": [
    "Insert missing columns to preserve formatting?"
   ]
  },
  {
   "cell_type": "code",
   "execution_count": 8,
   "id": "e85344c0",
   "metadata": {},
   "outputs": [
    {
     "data": {
      "text/plain": [
       "['debt_settlement_flag_Y']"
      ]
     },
     "execution_count": 8,
     "metadata": {},
     "output_type": "execute_result"
    }
   ],
   "source": [
    "# add missing dummy variables to testing set \n",
    "\n",
    "missing_col = []\n",
    "for col in X_train_dummies.columns:\n",
    "    if col not in X_test_dummies:\n",
    "        missing_col.append(col)\n",
    "        X_test_dummies[col] = 0\n",
    "missing_col"
   ]
  },
  {
   "cell_type": "markdown",
   "id": "92563706",
   "metadata": {},
   "source": [
    "-------------"
   ]
  },
  {
   "cell_type": "markdown",
   "id": "154ba8dd",
   "metadata": {},
   "source": [
    "# Logistic Regression - Unscaled Data"
   ]
  },
  {
   "cell_type": "code",
   "execution_count": 9,
   "id": "2a15da8e",
   "metadata": {
    "scrolled": true
   },
   "outputs": [
    {
     "name": "stderr",
     "output_type": "stream",
     "text": [
      "C:\\Users\\Alec\\anaconda3\\lib\\site-packages\\sklearn\\linear_model\\_sag.py:328: ConvergenceWarning: The max_iter was reached which means the coef_ did not converge\n",
      "  warnings.warn(\"The max_iter was reached which means \"\n"
     ]
    },
    {
     "data": {
      "text/plain": [
       "LogisticRegression(max_iter=4000, solver='sag')"
      ]
     },
     "execution_count": 9,
     "metadata": {},
     "output_type": "execute_result"
    }
   ],
   "source": [
    "# Train the Logistic Regression model on the unscaled data and print the model score \n",
    "model = LogisticRegression(solver='sag',max_iter=4000)\n",
    "model.fit(X_train_dummies,y_train)"
   ]
  },
  {
   "cell_type": "code",
   "execution_count": 10,
   "id": "8c75602b",
   "metadata": {
    "scrolled": true
   },
   "outputs": [
    {
     "name": "stdout",
     "output_type": "stream",
     "text": [
      "Train Score -> 0.653776683087028\n",
      "Test Score -> 0.5263717566992769\n"
     ]
    }
   ],
   "source": [
    "print(f'Train Score -> {model.score(X_train_dummies,y_train)}')\n",
    "print(f'Test Score -> {model.score(X_test_dummies,y_test)}')"
   ]
  },
  {
   "cell_type": "markdown",
   "id": "ee839037",
   "metadata": {},
   "source": [
    "# Random Forest - Unscaled Data"
   ]
  },
  {
   "cell_type": "markdown",
   "id": "2e5a10f2",
   "metadata": {},
   "source": [
    "Tends to be mroe accurate but there is a higher danger of overfitting"
   ]
  },
  {
   "cell_type": "markdown",
   "id": "d7e1d207",
   "metadata": {},
   "source": [
    "-------------"
   ]
  },
  {
   "cell_type": "code",
   "execution_count": 11,
   "id": "e8c2d07e",
   "metadata": {},
   "outputs": [],
   "source": [
    "# Train a Random Forest Classifier model and print the model score \n",
    "clf = RandomForestClassifier(random_state=12, n_estimators=500).fit(X_train_dummies,y_train)"
   ]
  },
  {
   "cell_type": "code",
   "execution_count": 12,
   "id": "7e75cdc9",
   "metadata": {},
   "outputs": [
    {
     "name": "stdout",
     "output_type": "stream",
     "text": [
      "Training Score -> 1.0\n",
      "Testing Score -> 0.6171841769459804\n"
     ]
    }
   ],
   "source": [
    "print(f'Training Score -> {clf.score(X_train_dummies, y_train)}')\n",
    "print(f'Testing Score -> {clf.score(X_test_dummies, y_test)}')"
   ]
  },
  {
   "cell_type": "markdown",
   "id": "46383223",
   "metadata": {},
   "source": [
    "-------------"
   ]
  },
  {
   "cell_type": "markdown",
   "id": "987257b4",
   "metadata": {},
   "source": [
    "# Scale the Data"
   ]
  },
  {
   "cell_type": "markdown",
   "id": "6893d67a",
   "metadata": {},
   "source": [
    "Observe the differences in scores after testing over scaled data"
   ]
  },
  {
   "cell_type": "code",
   "execution_count": 13,
   "id": "41e89b59",
   "metadata": {},
   "outputs": [],
   "source": [
    "scaler = StandardScaler().fit(X_train_dummies)\n",
    "X_train_scaled = scaler.transform(X_train_dummies)\n",
    "X_test_scaled = scaler.transform(X_test_dummies)"
   ]
  },
  {
   "cell_type": "code",
   "execution_count": 14,
   "id": "b6650ec5",
   "metadata": {},
   "outputs": [],
   "source": [
    "scaler = MinMaxScaler().fit(X_train_dummies)\n",
    "X_train_Min_Max = scaler.transform(X_train_dummies)\n",
    "X_test_Min_Max = scaler.transform(X_test_dummies)"
   ]
  },
  {
   "cell_type": "markdown",
   "id": "173d4587",
   "metadata": {},
   "source": [
    "-------------"
   ]
  },
  {
   "cell_type": "markdown",
   "id": "4fd8a9a0",
   "metadata": {},
   "source": [
    "# Logistic Regression - Scaled Data"
   ]
  },
  {
   "cell_type": "markdown",
   "id": "a9d448eb",
   "metadata": {},
   "source": [
    "### Standard Scaler"
   ]
  },
  {
   "cell_type": "code",
   "execution_count": 15,
   "id": "18aadc92",
   "metadata": {
    "scrolled": true
   },
   "outputs": [
    {
     "data": {
      "text/plain": [
       "LogisticRegression(max_iter=4000, solver='sag')"
      ]
     },
     "execution_count": 15,
     "metadata": {},
     "output_type": "execute_result"
    }
   ],
   "source": [
    "# Train the Logistic Regression model on the scaled data and print the model score \n",
    "\n",
    "model = LogisticRegression(solver='sag',max_iter=4000)\n",
    "model.fit(X_train_scaled,y_train)"
   ]
  },
  {
   "cell_type": "markdown",
   "id": "d9d81120",
   "metadata": {},
   "source": [
    "-------------"
   ]
  },
  {
   "cell_type": "markdown",
   "id": "cc796274",
   "metadata": {},
   "source": [
    "### Min Max Scaler"
   ]
  },
  {
   "cell_type": "code",
   "execution_count": 16,
   "id": "132f1625",
   "metadata": {},
   "outputs": [],
   "source": [
    "min_max_model = model.fit(X_train_Min_Max,y_train)"
   ]
  },
  {
   "cell_type": "markdown",
   "id": "f986a430",
   "metadata": {},
   "source": [
    "-------------"
   ]
  },
  {
   "cell_type": "code",
   "execution_count": 17,
   "id": "ff366897",
   "metadata": {
    "scrolled": true
   },
   "outputs": [
    {
     "name": "stdout",
     "output_type": "stream",
     "text": [
      "Scaled Train Score -> 0.6961412151067323\n",
      "Scaled Test Score -> 0.6607826456826882\n",
      "Min_Max Scaled Test Score -> 0.5952786048490004\n",
      "Unscaled Test Score -> 0.5535942152275627\n"
     ]
    }
   ],
   "source": [
    "print(f'Scaled Train Score -> {model.score(X_train_scaled,y_train)}')\n",
    "print(f'Scaled Test Score -> {model.score(X_test_scaled,y_test)}')\n",
    "print(f'Min_Max Scaled Test Score -> {min_max_model.score(X_test_Min_Max,y_test)}')\n",
    "print(f'Unscaled Test Score -> {model.score(X_test_dummies,y_test)}')\n"
   ]
  },
  {
   "cell_type": "markdown",
   "id": "87dd33a4",
   "metadata": {},
   "source": [
    "-------------"
   ]
  },
  {
   "cell_type": "markdown",
   "id": "0590ebcd",
   "metadata": {},
   "source": [
    "# Random Forest - Scaled Data"
   ]
  },
  {
   "cell_type": "markdown",
   "id": "cce3bea8",
   "metadata": {},
   "source": [
    "### Standard Scaler"
   ]
  },
  {
   "cell_type": "code",
   "execution_count": 18,
   "id": "e5ebeb4a",
   "metadata": {},
   "outputs": [],
   "source": [
    "# Train a Random Forest Classifier model on the scaled data and print the model score\n",
    "\n",
    "clf = RandomForestClassifier(random_state=12, n_estimators=500).fit(X_train_scaled,y_train)"
   ]
  },
  {
   "cell_type": "markdown",
   "id": "56494222",
   "metadata": {},
   "source": [
    "-------------"
   ]
  },
  {
   "cell_type": "markdown",
   "id": "f92ecfcd",
   "metadata": {},
   "source": [
    "### Min Max Scaler"
   ]
  },
  {
   "cell_type": "code",
   "execution_count": 19,
   "id": "a7edfad7",
   "metadata": {},
   "outputs": [],
   "source": [
    "Min_Max_clf = RandomForestClassifier(random_state=12, n_estimators=500).fit(X_train_Min_Max,y_train)"
   ]
  },
  {
   "cell_type": "code",
   "execution_count": 20,
   "id": "3b59aac0",
   "metadata": {
    "scrolled": true
   },
   "outputs": [
    {
     "name": "stdout",
     "output_type": "stream",
     "text": [
      "Scaled Training Score -> 1.0\n",
      "Scaled Testing Score -> 0.6169715014887281\n",
      "Min_Max Scaled Test Score -> 0.6178222033177372\n"
     ]
    }
   ],
   "source": [
    "print(f'Scaled Training Score -> {clf.score(X_train_scaled, y_train)}')\n",
    "print(f'Scaled Testing Score -> {clf.score(X_test_scaled, y_test)}')\n",
    "print(f'Min_Max Scaled Test Score -> {Min_Max_clf.score(X_test_Min_Max,y_test)}')\n"
   ]
  },
  {
   "cell_type": "markdown",
   "id": "5252fb93",
   "metadata": {},
   "source": [
    "-------------"
   ]
  },
  {
   "cell_type": "markdown",
   "id": "ea801d9e",
   "metadata": {},
   "source": [
    "#### N_estimators increased to 750"
   ]
  },
  {
   "cell_type": "markdown",
   "id": "aabff762",
   "metadata": {},
   "source": [
    "-------------"
   ]
  },
  {
   "cell_type": "code",
   "execution_count": 21,
   "id": "dc86c14f",
   "metadata": {},
   "outputs": [],
   "source": [
    "# Train a Random Forest Classifier model on the scaled data and print the model score\n",
    "\n",
    "clf = RandomForestClassifier(random_state=12, n_estimators=750).fit(X_train_scaled,y_train)"
   ]
  },
  {
   "cell_type": "code",
   "execution_count": 22,
   "id": "985fc2b1",
   "metadata": {},
   "outputs": [],
   "source": [
    "Min_Max_clf = RandomForestClassifier(random_state=12, n_estimators=750).fit(X_train_Min_Max,y_train)"
   ]
  },
  {
   "cell_type": "code",
   "execution_count": 23,
   "id": "0b8474a9",
   "metadata": {
    "scrolled": true
   },
   "outputs": [
    {
     "name": "stdout",
     "output_type": "stream",
     "text": [
      "Scaled Training Score -> 1.0\n",
      "Scaled Testing Score -> 0.6135686941726924\n",
      "Min_Max Scaled Test Score -> 0.6152700978307103\n"
     ]
    }
   ],
   "source": [
    "print(f'Scaled Training Score -> {clf.score(X_train_scaled, y_train)}')\n",
    "print(f'Scaled Testing Score -> {clf.score(X_test_scaled, y_test)}')\n",
    "print(f'Min_Max Scaled Test Score -> {Min_Max_clf.score(X_test_Min_Max,y_test)}')"
   ]
  },
  {
   "cell_type": "markdown",
   "id": "93bca933",
   "metadata": {},
   "source": [
    "-------------"
   ]
  }
 ],
 "metadata": {
  "kernelspec": {
   "display_name": "Python 3",
   "language": "python",
   "name": "python3"
  },
  "language_info": {
   "codemirror_mode": {
    "name": "ipython",
    "version": 3
   },
   "file_extension": ".py",
   "mimetype": "text/x-python",
   "name": "python",
   "nbconvert_exporter": "python",
   "pygments_lexer": "ipython3",
   "version": "3.8.8"
  }
 },
 "nbformat": 4,
 "nbformat_minor": 5
}
